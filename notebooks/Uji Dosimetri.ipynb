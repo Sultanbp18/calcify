{
 "cells": [
  {
   "cell_type": "code",
   "execution_count": null,
   "id": "3ef1864d",
   "metadata": {
    "vscode": {
     "languageId": "plaintext"
    }
   },
   "outputs": [],
   "source": [
    "# !pip install pylinac\n",
    "from pylinac.calibration import trs398\n",
    "\n"
   ]
  },
  {
   "cell_type": "code",
   "execution_count": null,
   "id": "4414e16c",
   "metadata": {
    "vscode": {
     "languageId": "plaintext"
    }
   },
   "outputs": [],
   "source": [
    "# FORM INPUT\n",
    "TEMP = 22.5\n",
    "PRESS = trs398.mmHg2kPa(757.562)\n",
    "CHAMBER = '30011'  # PTW\n",
    "K_ELEC = 1.000\n",
    "ND_w = 0.04745    # Gy/nC\n",
    "MU = 100\n",
    "CLINICAL_PDD = 73.5\n",
    "\n",
    "v1=400\n",
    "v2=100\n",
    "\n",
    "# Hasil Bacaan\n",
    "m1 = 15.3933\n",
    "mmin = 15.4167\n",
    "m2 = 15.2333\n",
    "tpr = 0.74\n"
   ]
  },
  {
   "cell_type": "code",
   "execution_count": null,
   "id": "43e5e602",
   "metadata": {
    "vscode": {
     "languageId": "plaintext"
    }
   },
   "outputs": [],
   "source": [
    "# Section 3 (dosimeter corrections)\n",
    "k_tp = trs398.k_tp(temp=TEMP, press=PRESS)\n",
    "k_pol = trs398.k_pol(m_reference=(m1), m_opposite=(mmin))\n",
    "k_s = trs398.k_s(voltage_reference=v1, voltage_reduced=v2,\n",
    "                 m_reference=(m1), m_reduced=(m2))\n",
    "m_corrected = trs398.m_corrected(m_reference=(m1),\n",
    "                                 k_tp=k_tp, k_elec=K_ELEC, k_pol=k_pol, k_s=k_s) \\\n",
    "              / MU\n",
    "\n",
    "# Section 4 (kQ + dose at zref)\n",
    "kq = trs398.kq_photon(chamber=CHAMBER, tpr=tpr)\n",
    "dose_mu_zref = m_corrected * ND_w * kq\n",
    "\n",
    "# Section 5 (Dose at zmax)\n",
    "# SSD setup\n",
    "dose_mu_zmax = dose_mu_zref * 100 / CLINICAL_PDD\n",
    "dose_mu_zmax = dose_mu_zmax * 10000\n",
    "\n",
    "deviasi = (abs( dose_mu_zmax - MU ) / MU ) * 100\n",
    "\n",
    "# # SAD setup\n",
    "# CLINICAL_TMR = 0.666\n",
    "# dose_mu_zmax = dose_mu_zref / CLINICAL_TMR\n",
    "\n",
    "# Done!\n",
    "print(\"Dosis Absolute: \", dose_mu_zmax, \"cGy/MU\")\n",
    "print(\"Deviasi       : \", deviasi, \"%\")"
   ]
  }
 ],
 "metadata": {
  "language_info": {
   "name": "python"
  }
 },
 "nbformat": 4,
 "nbformat_minor": 5
}
