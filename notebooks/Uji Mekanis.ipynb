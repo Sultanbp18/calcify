{
 "cells": [
  {
   "cell_type": "code",
   "execution_count": 8,
   "id": "cbf0b2b6",
   "metadata": {},
   "outputs": [
    {
     "name": "stdout",
     "output_type": "stream",
     "text": [
      "Hasil Uji Lapangan Kolimasi 10x10 adalah LULUS dengan ΔX=2.00 mm dan ΔY=2.00 mm\n"
     ]
    }
   ],
   "source": [
    "# Indikator Lapangan Kolimasi 10x10\n",
    "\n",
    "##INPUT FORM\n",
    "X = 10 #cm\n",
    "Y = 10 #cm\n",
    "X1 = float(input(\"Masukkan nilai X1 (cm): \"))\n",
    "X2 = float(input(\"Masukkan nilai X2 (cm): \"))\n",
    "Y1 = float(input(\"Masukkan nilai Y1 (cm): \"))\n",
    "Y2 = float(input(\"Masukkan nilai Y2 (cm): \"))\n",
    "\n",
    "##CALCULATION\n",
    "deltaX = round(abs(X - (X2 + X1)) * 10, 2) #mm\n",
    "deltaY = round(abs(Y - (Y2 + Y1)) * 10, 2) #mm\n",
    "\n",
    "\n",
    "##LOGIC OUTPUT\n",
    "if (deltaX <= 2) & (deltaY <= 2): # 2mm\n",
    "    print(f\"Hasil Uji Lapangan Kolimasi 10x10 adalah LULUS dengan ΔX={deltaX:.2f} mm dan ΔY={deltaY:.2f} mm\")\n",
    "else:\n",
    "    print(f\"Hasil Uji Lapangan Kolimasi 10x10 adalah TIDAK LULUS dengan ΔX={deltaX:.2f} mm dan ΔY={deltaY:.2f} mm\")"
   ]
  },
  {
   "cell_type": "code",
   "execution_count": null,
   "id": "27a201ce",
   "metadata": {},
   "outputs": [
    {
     "name": "stdout",
     "output_type": "stream",
     "text": [
      "Hasil Uji Indikator Posisi Meja Penyinaran adalah LULUS dengan selisih posisi sebesar {deltaS:.2f} mm\n"
     ]
    }
   ],
   "source": [
    "# Indikator Posisi Meja Penyinaran\n",
    "\n",
    "##INPUT FORM\n",
    "Sinput = float(input(\"Masukkan nilai perpindahan yang di setting pada meja (cm): \"))\n",
    "Soutput = float(input(\"Masukkan nilai perpindahan yang terbaca pada alat (cm): \"))\n",
    "\n",
    "##CALCULATION\n",
    "deltaS = round(abs(Sinput - Soutput) * 10, 2)  # mm\n",
    "\n",
    "##LOGIC OUTPUT\n",
    "if deltaS <= 2: # 2mm\n",
    "    print(f\"Hasil Uji Indikator Posisi Meja Penyinaran adalah LULUS dengan selisih posisi sebesar {deltaS:.2f} mm\")\n",
    "else:\n",
    "    print(f\"Hasil Uji Indikator Posisi Meja Penyinaran adalah TIDAK LULUS dengan selisih posisi sebesar {deltaS:.2f} mm\")"
   ]
  },
  {
   "cell_type": "code",
   "execution_count": null,
   "id": "fbe815c3",
   "metadata": {},
   "outputs": [
    {
     "name": "stdout",
     "output_type": "stream",
     "text": [
      "Hasil Uji ODI adalah TIDAK LULUS dengan selisih jarak ODI sebesar 2.0 mm\n"
     ]
    }
   ],
   "source": [
    "# Uji ODI\n",
    "\n",
    "##INPUT FORM\n",
    "Dinput = float(input(\"Masukkan nilai jarak ODI yang di setting (cm): \"))\n",
    "Doutput = float(input(\"Masukkan nilai jarak ODI yang terbaca pada alat (cm): \"))\n",
    "\n",
    "##CALCULATION\n",
    "deltaD =  round(abs(Dinput - Doutput) * 10, 2) #mm\n",
    "\n",
    "##LOGIC OUTPUT\n",
    "if deltaD <= 2: # 2mm\n",
    "    print(f\"Hasil Uji ODI adalah LULUS dengan selisih jarak ODI sebesar {deltaS:.2f} mm\")\n",
    "else:\n",
    "    print(f\"Hasil Uji ODI adalah TIDAK LULUS dengan selisih jarak ODI sebesar {deltaS:.2f} mm\")"
   ]
  },
  {
   "cell_type": "code",
   "execution_count": null,
   "id": "9a065f2b",
   "metadata": {},
   "outputs": [
    {
     "name": "stdout",
     "output_type": "stream",
     "text": [
      "Hasil Uji Indikator Sudut Gantry adalah LULUS dengan selisih sudut gantry sebesar 1.0 derajat\n"
     ]
    }
   ],
   "source": [
    "# Indikator Sudut Gantry\n",
    "\n",
    "##INPUT FORM\n",
    "Sinput = float(input(\"Masukkan nilai sudut gantry yang di setting (derajat): \"))\n",
    "Soutput = float(input(\"Masukkan nilai sudut gantry yang terbaca pada alat (derajat): \"))\n",
    "\n",
    "##CALCULATION\n",
    "deltaS = abs(Sinput - Soutput) #derajat\n",
    "\n",
    "##LOGIC OUTPUT\n",
    "if deltaS <= 1: # 1 derajat\n",
    "    print(\"Hasil Uji Indikator Sudut Gantry adalah LULUS dengan selisih sudut gantry sebesar \", round(deltaS,2), \"derajat\")\n",
    "else:\n",
    "    print(\"Hasil Uji Indikator Sudut Gantry adalah TIDAK LULUS dengan selisih sudut gantry sebesar \", round(deltaS,2), \"derajat\")"
   ]
  },
  {
   "cell_type": "code",
   "execution_count": null,
   "id": "4d9cf72a",
   "metadata": {},
   "outputs": [],
   "source": [
    "# Indikator Sudut Kolimator\n",
    "\n",
    "##INPUT FORM\n",
    "Sinput = float(input(\"Masukkan nilai sudut kolimator yang di setting (derajat): \"))\n",
    "Soutput = float(input(\"Masukkan nilai sudut kolimator yang terbaca pada alat (derajat): \"))\n",
    "\n",
    "##CALCULATION\n",
    "deltaS = abs(Sinput - Soutput) #derajat\n",
    "\n",
    "##LOGIC OUTPUT\n",
    "if deltaS <= 1: # 1 derajat\n",
    "    print(\"Hasil Uji Indikator Sudut Kolimator adalah LULUS dengan selisih sudut kolimator sebesar \", round(deltaS,2), \"derajat\")\n",
    "else:\n",
    "    print(\"Hasil Uji Indikator Sudut Kolimator adalah TIDAK LULUS dengan selisih sudut kolimator sebesar \", round(deltaS,2), \"derajat\")"
   ]
  }
 ],
 "metadata": {
  "kernelspec": {
   "display_name": "lab",
   "language": "python",
   "name": "python3"
  },
  "language_info": {
   "codemirror_mode": {
    "name": "ipython",
    "version": 3
   },
   "file_extension": ".py",
   "mimetype": "text/x-python",
   "name": "python",
   "nbconvert_exporter": "python",
   "pygments_lexer": "ipython3",
   "version": "3.12.0"
  }
 },
 "nbformat": 4,
 "nbformat_minor": 5
}
